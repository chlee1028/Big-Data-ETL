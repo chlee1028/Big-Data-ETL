{
 "cells": [
  {
   "cell_type": "code",
   "execution_count": 4,
   "metadata": {
    "collapsed": true
   },
   "outputs": [],
   "source": [
    "import pyspark\n",
    "from pyspark.ml.feature import OneHotEncoder, StringIndexer, VectorAssembler"
   ]
  },
  {
   "cell_type": "code",
   "execution_count": 3,
   "metadata": {},
   "outputs": [
    {
     "name": "stdout",
     "output_type": "stream",
     "text": [
      "+--------+\n",
      "|cate_col|\n",
      "+--------+\n",
      "|       a|\n",
      "|       b|\n",
      "|       c|\n",
      "|       a|\n",
      "|       a|\n",
      "|       c|\n",
      "+--------+\n",
      "\n"
     ]
    }
   ],
   "source": [
    "df = spark.createDataFrame([['a'],['b'],['c'],['a'],['a'],['c']],['cate_col'])\n",
    "df.show()"
   ]
  },
  {
   "cell_type": "markdown",
   "metadata": {},
   "source": [
    "### StringIndexer\n",
    "\n",
    "- Label categorical column to indices (0,1,2......)\n",
    "- Indices base on frequency of the value \n",
    "    (e.g. There are 3'a's, 2'c's and 1'b', a is labelled 0, c labelled 1 and b labelled 2) "
   ]
  },
  {
   "cell_type": "code",
   "execution_count": 5,
   "metadata": {
    "collapsed": true
   },
   "outputs": [],
   "source": [
    "stridx = StringIndexer(inputCol='cate_col',outputCol='cate_col_idx')\n",
    "stridxModel = stridx.fit(df)\n",
    "df_idx = stridxModel.transform(df)"
   ]
  },
  {
   "cell_type": "code",
   "execution_count": 7,
   "metadata": {},
   "outputs": [
    {
     "name": "stdout",
     "output_type": "stream",
     "text": [
      "+--------+------------+\n",
      "|cate_col|cate_col_idx|\n",
      "+--------+------------+\n",
      "|       a|         0.0|\n",
      "|       b|         2.0|\n",
      "|       c|         1.0|\n",
      "|       a|         0.0|\n",
      "|       a|         0.0|\n",
      "|       c|         1.0|\n",
      "+--------+------------+\n",
      "\n"
     ]
    }
   ],
   "source": [
    "df_idx.show()"
   ]
  },
  {
   "cell_type": "markdown",
   "metadata": {},
   "source": [
    "### OneHotEncoder\n",
    "map a column of label indices to binary vectors. (Dummy variable in vector form)\n",
    "\n",
    "The last label is removed.\n",
    "\n",
    "    0 -> [1,0]\n",
    "\n",
    "    1 -> [0,1]\n",
    "\n",
    "    2 -> [ , ]    **Last label is empty\n",
    "\n",
    "##### Sparse Matrix: \n",
    "`( length-of-vector, position-of-non-zero, value )`\n",
    "\n",
    "`(5, [0,3], [1,9])` means vector with length 5 with `1,9` at position `0,3` respectively: `[1,0,0,9,0]`"
   ]
  },
  {
   "cell_type": "code",
   "execution_count": 8,
   "metadata": {
    "collapsed": true
   },
   "outputs": [],
   "source": [
    "OHE = OneHotEncoder(inputCol='cate_col_idx', outputCol='cate_col_encoded')\n",
    "df_encoded = OHE.transform(df_idx)"
   ]
  },
  {
   "cell_type": "code",
   "execution_count": 9,
   "metadata": {},
   "outputs": [
    {
     "name": "stdout",
     "output_type": "stream",
     "text": [
      "+--------+------------+----------------+\n",
      "|cate_col|cate_col_idx|cate_col_encoded|\n",
      "+--------+------------+----------------+\n",
      "|       a|         0.0|   (2,[0],[1.0])|\n",
      "|       b|         2.0|       (2,[],[])|\n",
      "|       c|         1.0|   (2,[1],[1.0])|\n",
      "|       a|         0.0|   (2,[0],[1.0])|\n",
      "|       a|         0.0|   (2,[0],[1.0])|\n",
      "|       c|         1.0|   (2,[1],[1.0])|\n",
      "+--------+------------+----------------+\n",
      "\n"
     ]
    }
   ],
   "source": [
    "df_encoded.show()"
   ]
  },
  {
   "cell_type": "code",
   "execution_count": null,
   "metadata": {
    "collapsed": true
   },
   "outputs": [],
   "source": []
  }
 ],
 "metadata": {
  "kernelspec": {
   "display_name": "PySpark",
   "language": "python",
   "name": "pyspark"
  },
  "language_info": {
   "codemirror_mode": {
    "name": "ipython",
    "version": 3
   },
   "file_extension": ".py",
   "mimetype": "text/x-python",
   "name": "python",
   "nbconvert_exporter": "python",
   "pygments_lexer": "ipython3",
   "version": "3.5.2"
  }
 },
 "nbformat": 4,
 "nbformat_minor": 2
}
